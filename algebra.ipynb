{
 "cells": [
  {
   "cell_type": "markdown",
   "metadata": {},
   "source": [
    "# Algebra\n",
    "\n",
    "These will be the notes for the self study of algebra"
   ]
  },
  {
   "cell_type": "markdown",
   "metadata": {},
   "source": [
    "## Imports"
   ]
  },
  {
   "cell_type": "code",
   "execution_count": 23,
   "metadata": {},
   "outputs": [],
   "source": [
    "%load_ext autoreload\n",
    "%autoreload 2\n",
    "\n",
    "import numpy as np\n",
    "import sympy as sp\n",
    "import pandas as pd\n",
    "import matplotlib.pyplot as plt\n",
    "from matplotlib import colormaps\n",
    "import matplotlib.path as mpath\n",
    "from scipy.integrate import quad, nquad\n",
    "from scipy.differentiate import derivative\n",
    "import matplotlib.pyplot as plt\n",
    "import itertools"
   ]
  },
  {
   "cell_type": "code",
   "execution_count": 24,
   "metadata": {},
   "outputs": [
    {
     "name": "stdout",
     "output_type": "stream",
     "text": [
      "Hello!\n"
     ]
    }
   ],
   "source": [
    "# custom\n",
    "from my_utils import defs as cp\n",
    "from my_utils.classes import CEPAS_measurement, CEPAS_benchmark, CEPAS_noise_info, CEPAS_SNR_bench\n",
    "cp.hello_test()"
   ]
  },
  {
   "cell_type": "markdown",
   "metadata": {},
   "source": [
    "## Ratios\n",
    "\n"
   ]
  },
  {
   "cell_type": "markdown",
   "metadata": {},
   "source": [
    "### Example\n",
    "Find the ratio compounded of three ratios: $2a:3b, 6ab:5c^2,c:a$"
   ]
  },
  {
   "cell_type": "markdown",
   "metadata": {},
   "source": [
    "\n",
    "### Solution\n",
    "\n",
    "$\\frac{2a}{3b}\\cdot\\frac{6ab}{5c^2}\\cdot\\frac{c}{a} =$\n",
    "\n",
    "$=\\frac{4a}{5c}$"
   ]
  },
  {
   "cell_type": "markdown",
   "metadata": {},
   "source": [
    "### ratio of greater inequality is diminished and ratio of less inequality is increased,\n",
    "### when adding to both numerator and denominator an equal amount"
   ]
  },
  {
   "cell_type": "code",
   "execution_count": 13,
   "metadata": {},
   "outputs": [
    {
     "data": {
      "application/vnd.jupyter.widget-view+json": {
       "model_id": "01f4bc8f08a04cb09ff366b60f4f19aa",
       "version_major": 2,
       "version_minor": 0
      },
      "image/png": "[encoded data removed]",
      "text/html": [
       "\n",
       "            <div style=\"display: inline-block;\">\n",
       "                <div class=\"jupyter-widgets widget-label\" style=\"text-align: center;\">\n",
       "                    Figure\n",
       "                </div>\n",
       "                <img src='data:image/png;base64,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' width=640.0/>\n",
       "            </div>\n",
       "        "
      ],
      "text/plain": [
       "Canvas(toolbar=Toolbar(toolitems=[('Home', 'Reset original view', 'home', 'home'), ('Back', 'Back to previous …"
      ]
     },
     "metadata": {},
     "output_type": "display_data"
    }
   ],
   "source": [
    "def ratio(a, b) -> float:\n",
    "    return a / b\n",
    "\n",
    "\n",
    "\n",
    "x = list(range(100))\n",
    "less_y = [ratio(1+x[i], 2+x[i]) for i in range(len(x))]\n",
    "greater_y = [ratio(2+x[i], 1+x[i]) for i in range(len(x))]\n",
    "\n",
    "plt.plot(x, less_y, \"k-\")\n",
    "plt.plot(x, greater_y, \"r-\")\n",
    "plt.show()"
   ]
  },
  {
   "cell_type": "markdown",
   "metadata": {},
   "source": [
    "If\n",
    "\n",
    "$\\frac{a}{b}=\\frac{c}{d}=\\frac{e}{f}...$\n",
    "\n",
    "each of those equal\n",
    "\n",
    "$\\left(\\frac{pa^n+qc^n+re^n+...}{pb^n+qd^n+rf^n+...}\\right)^{\\frac{1}{n}}$\n",
    "\n",
    "where $p\\ q\\ r\\ n\\ $ are any quantities whatever.\n",
    "\n",
    "Let\n",
    "\n",
    "$\\frac{a}{b}=\\frac{c}{d}=\\frac{e}{f}=k$\n",
    "\n",
    "then\n",
    "\n",
    "$a=bk,\\ c=dk,\\ e=fk,\\ ...$\n",
    "\n",
    "whence\n",
    "\n",
    "$pa^n=pb^nk^n,\\ qc^n=qd^nk^n,\\ ...;$\n",
    "\n",
    "$\\implies \\frac{pa^n+qc^n+re^n...}{pb^n+qd^n+rf^n...}=\\frac{pb^nk^n+qd^nk^n+rf^nk^n...}{pb^n+qd^n+rf^n...}=k^n;$\n",
    "\n",
    "$\\implies\\left(\\frac{pa^n+qc^n+re^n}{pb^n+qd^n+rf^n}\\right)^{\\frac{1}{n}}=k=$"
   ]
  },
  {
   "cell_type": "markdown",
   "metadata": {},
   "source": [
    "# Logic"
   ]
  },
  {
   "cell_type": "code",
   "execution_count": 14,
   "metadata": {},
   "outputs": [
    {
     "name": "stdout",
     "output_type": "stream",
     "text": [
      "Here will be the reference boolean table\n",
      "_________________________________________________________\n",
      "| p | q | p AND q | p OR q | p XOR q | p -> q | p <-> q |\n",
      "=========================================================\n",
      "| T | T |    T    |    T   |    F    |   T    |    T    |\n",
      "=========================================================\n",
      "| T | F |    F    |    T   |    T    |   F    |    F    |\n",
      "=========================================================\n",
      "| F | T |    F    |    T   |    T    |   T    |    F    |\n",
      "=========================================================\n",
      "| F | F |    F    |    F   |    F    |   T    |    T    |\n",
      "=========================================================\n"
     ]
    }
   ],
   "source": [
    "print(\"Here will be the reference boolean table\")\n",
    "print(\"_________________________________________________________\")\n",
    "print(\"| p | q | p AND q | p OR q | p XOR q | p -> q | p <-> q |\")\n",
    "print(\"=========================================================\")\n",
    "print(f\"| T | T |    T    |    T   |    F    |   T    |    T    |\")\n",
    "print(\"=========================================================\")\n",
    "print(f\"| T | F |    F    |    T   |    T    |   F    |    F    |\")\n",
    "print(\"=========================================================\")\n",
    "print(f\"| F | T |    F    |    T   |    T    |   T    |    F    |\")\n",
    "print(\"=========================================================\")\n",
    "print(f\"| F | F |    F    |    F   |    F    |   T    |    T    |\")\n",
    "print(\"=========================================================\")"
   ]
  },
  {
   "cell_type": "markdown",
   "metadata": {},
   "source": [
    "# Friendly Rows\n",
    "\n",
    "\n",
    "The purpose is to create simple algebra system based on the primary school concept of friendly rows.\n",
    "\n",
    "The system could include units physics purposes.\n",
    "\n",
    "But the primary functions must be present:\n",
    "\n",
    "* creation of mathematical expression ($y = \\int(\\log_a (b\\cdot c))^{d+1}da$)\n",
    "\n",
    "* detection of math operators ($+$, $-$, $\\cdot$, $^n$, $\\sqrt[{n}]{}$, $\\wedge$)"
   ]
  },
  {
   "cell_type": "markdown",
   "metadata": {},
   "source": [
    "$\\begin{equation}\n",
    "\\begin{split}\n",
    "&\\dfrac{d}{dx}\\frac{3-2x^2}{4-3x^2}\\\\\n",
    "&\\left[\\text{using: }\\frac{f}{g}=\\frac{gf'-fg'}{g^2}\\right]\\\\\n",
    "&=\\frac{-4x(4-3x^2)-(-6x)(3-2x^2)}{(4-3x^2)^2}\\\\\n",
    "&=\\frac{12x^3-16x-12x^3+18x}{16-24x^2+9x^4}\\\\\n",
    "&=\\frac{2x}{16-24x^2+9x^4}\\\\\n",
    "\\end{split}\n",
    "\\end{equation}$"
   ]
  },
  {
   "cell_type": "code",
   "execution_count": 15,
   "metadata": {},
   "outputs": [],
   "source": [
    "s, t, u = sp.symbols('s t u')"
   ]
  },
  {
   "cell_type": "code",
   "execution_count": 16,
   "metadata": {},
   "outputs": [],
   "source": [
    "x = s*sp.cos(t)*sp.sin(u)\n",
    "y = s*sp.sin(t)*sp.sin(u)\n",
    "z = s*sp.cos(u)\n",
    "\n",
    "w = x*y**2*z**3\n",
    "w_f = sp.lambdify((s, t, u), w)\n",
    "dw_ds = sp.diff(w, s)\n",
    "dw_dt = sp.diff(w, t)\n",
    "dw_du = sp.diff(w, u)"
   ]
  },
  {
   "cell_type": "code",
   "execution_count": 17,
   "metadata": {},
   "outputs": [
    {
     "data": {
      "text/latex": [
       "$\\displaystyle 6 s^{5} \\sin^{2}{\\left(t \\right)} \\sin^{3}{\\left(u \\right)} \\cos{\\left(t \\right)} \\cos^{3}{\\left(u \\right)}$"
      ],
      "text/plain": [
       "6*s**5*sin(t)**2*sin(u)**3*cos(t)*cos(u)**3"
      ]
     },
     "execution_count": 17,
     "metadata": {},
     "output_type": "execute_result"
    }
   ],
   "source": [
    "sp.simplify(dw_ds)"
   ]
  },
  {
   "cell_type": "code",
   "execution_count": 18,
   "metadata": {},
   "outputs": [
    {
     "data": {
      "text/latex": [
       "$\\displaystyle - s^{6} \\sin^{3}{\\left(t \\right)} \\sin^{3}{\\left(u \\right)} \\cos^{3}{\\left(u \\right)} + 2 s^{6} \\sin{\\left(t \\right)} \\sin^{3}{\\left(u \\right)} \\cos^{2}{\\left(t \\right)} \\cos^{3}{\\left(u \\right)}$"
      ],
      "text/plain": [
       "-s**6*sin(t)**3*sin(u)**3*cos(u)**3 + 2*s**6*sin(t)*sin(u)**3*cos(t)**2*cos(u)**3"
      ]
     },
     "execution_count": 18,
     "metadata": {},
     "output_type": "execute_result"
    }
   ],
   "source": [
    "dw_dt"
   ]
  },
  {
   "cell_type": "code",
   "execution_count": 19,
   "metadata": {},
   "outputs": [
    {
     "data": {
      "text/latex": [
       "$\\displaystyle 3 s^{6} \\sin^{2}{\\left(t \\right)} \\sin^{2}{\\left(u \\right)} \\cos{\\left(t \\right)} \\cos^{2}{\\left(u \\right)} \\cos{\\left(2 u \\right)}$"
      ],
      "text/plain": [
       "3*s**6*sin(t)**2*sin(u)**2*cos(t)*cos(u)**2*cos(2*u)"
      ]
     },
     "execution_count": 19,
     "metadata": {},
     "output_type": "execute_result"
    }
   ],
   "source": [
    "sp.simplify(dw_du)"
   ]
  },
  {
   "cell_type": "code",
   "execution_count": 20,
   "metadata": {},
   "outputs": [
    {
     "data": {
      "text/plain": [
       "np.float64(0.0009382531010861104)"
      ]
     },
     "execution_count": 20,
     "metadata": {},
     "output_type": "execute_result"
    }
   ],
   "source": [
    "w_f(1, 2, 3)"
   ]
  },
  {
   "cell_type": "markdown",
   "metadata": {},
   "source": [
    "# Multivariate things"
   ]
  },
  {
   "cell_type": "code",
   "execution_count": 21,
   "metadata": {},
   "outputs": [
    {
     "data": {
      "text/plain": [
       "['magma',\n",
       " 'inferno',\n",
       " 'plasma',\n",
       " 'viridis',\n",
       " 'cividis',\n",
       " 'twilight',\n",
       " 'twilight_shifted',\n",
       " 'turbo',\n",
       " 'berlin',\n",
       " 'managua',\n",
       " 'vanimo',\n",
       " 'Blues',\n",
       " 'BrBG',\n",
       " 'BuGn',\n",
       " 'BuPu',\n",
       " 'CMRmap',\n",
       " 'GnBu',\n",
       " 'Greens',\n",
       " 'Greys',\n",
       " 'OrRd',\n",
       " 'Oranges',\n",
       " 'PRGn',\n",
       " 'PiYG',\n",
       " 'PuBu',\n",
       " 'PuBuGn',\n",
       " 'PuOr',\n",
       " 'PuRd',\n",
       " 'Purples',\n",
       " 'RdBu',\n",
       " 'RdGy',\n",
       " 'RdPu',\n",
       " 'RdYlBu',\n",
       " 'RdYlGn',\n",
       " 'Reds',\n",
       " 'Spectral',\n",
       " 'Wistia',\n",
       " 'YlGn',\n",
       " 'YlGnBu',\n",
       " 'YlOrBr',\n",
       " 'YlOrRd',\n",
       " 'afmhot',\n",
       " 'autumn',\n",
       " 'binary',\n",
       " 'bone',\n",
       " 'brg',\n",
       " 'bwr',\n",
       " 'cool',\n",
       " 'coolwarm',\n",
       " 'copper',\n",
       " 'cubehelix',\n",
       " 'flag',\n",
       " 'gist_earth',\n",
       " 'gist_gray',\n",
       " 'gist_heat',\n",
       " 'gist_ncar',\n",
       " 'gist_rainbow',\n",
       " 'gist_stern',\n",
       " 'gist_yarg',\n",
       " 'gnuplot',\n",
       " 'gnuplot2',\n",
       " 'gray',\n",
       " 'hot',\n",
       " 'hsv',\n",
       " 'jet',\n",
       " 'nipy_spectral',\n",
       " 'ocean',\n",
       " 'pink',\n",
       " 'prism',\n",
       " 'rainbow',\n",
       " 'seismic',\n",
       " 'spring',\n",
       " 'summer',\n",
       " 'terrain',\n",
       " 'winter',\n",
       " 'Accent',\n",
       " 'Dark2',\n",
       " 'Paired',\n",
       " 'Pastel1',\n",
       " 'Pastel2',\n",
       " 'Set1',\n",
       " 'Set2',\n",
       " 'Set3',\n",
       " 'tab10',\n",
       " 'tab20',\n",
       " 'tab20b',\n",
       " 'tab20c',\n",
       " 'grey',\n",
       " 'gist_grey',\n",
       " 'gist_yerg',\n",
       " 'Grays',\n",
       " 'magma_r',\n",
       " 'inferno_r',\n",
       " 'plasma_r',\n",
       " 'viridis_r',\n",
       " 'cividis_r',\n",
       " 'twilight_r',\n",
       " 'twilight_shifted_r',\n",
       " 'turbo_r',\n",
       " 'berlin_r',\n",
       " 'managua_r',\n",
       " 'vanimo_r',\n",
       " 'Blues_r',\n",
       " 'BrBG_r',\n",
       " 'BuGn_r',\n",
       " 'BuPu_r',\n",
       " 'CMRmap_r',\n",
       " 'GnBu_r',\n",
       " 'Greens_r',\n",
       " 'Greys_r',\n",
       " 'OrRd_r',\n",
       " 'Oranges_r',\n",
       " 'PRGn_r',\n",
       " 'PiYG_r',\n",
       " 'PuBu_r',\n",
       " 'PuBuGn_r',\n",
       " 'PuOr_r',\n",
       " 'PuRd_r',\n",
       " 'Purples_r',\n",
       " 'RdBu_r',\n",
       " 'RdGy_r',\n",
       " 'RdPu_r',\n",
       " 'RdYlBu_r',\n",
       " 'RdYlGn_r',\n",
       " 'Reds_r',\n",
       " 'Spectral_r',\n",
       " 'Wistia_r',\n",
       " 'YlGn_r',\n",
       " 'YlGnBu_r',\n",
       " 'YlOrBr_r',\n",
       " 'YlOrRd_r',\n",
       " 'afmhot_r',\n",
       " 'autumn_r',\n",
       " 'binary_r',\n",
       " 'bone_r',\n",
       " 'brg_r',\n",
       " 'bwr_r',\n",
       " 'cool_r',\n",
       " 'coolwarm_r',\n",
       " 'copper_r',\n",
       " 'cubehelix_r',\n",
       " 'flag_r',\n",
       " 'gist_earth_r',\n",
       " 'gist_gray_r',\n",
       " 'gist_heat_r',\n",
       " 'gist_ncar_r',\n",
       " 'gist_rainbow_r',\n",
       " 'gist_stern_r',\n",
       " 'gist_yarg_r',\n",
       " 'gnuplot_r',\n",
       " 'gnuplot2_r',\n",
       " 'gray_r',\n",
       " 'hot_r',\n",
       " 'hsv_r',\n",
       " 'jet_r',\n",
       " 'nipy_spectral_r',\n",
       " 'ocean_r',\n",
       " 'pink_r',\n",
       " 'prism_r',\n",
       " 'rainbow_r',\n",
       " 'seismic_r',\n",
       " 'spring_r',\n",
       " 'summer_r',\n",
       " 'terrain_r',\n",
       " 'winter_r',\n",
       " 'Accent_r',\n",
       " 'Dark2_r',\n",
       " 'Paired_r',\n",
       " 'Pastel1_r',\n",
       " 'Pastel2_r',\n",
       " 'Set1_r',\n",
       " 'Set2_r',\n",
       " 'Set3_r',\n",
       " 'tab10_r',\n",
       " 'tab20_r',\n",
       " 'tab20b_r',\n",
       " 'tab20c_r',\n",
       " 'grey_r',\n",
       " 'gist_grey_r',\n",
       " 'gist_yerg_r',\n",
       " 'Grays_r']"
      ]
     },
     "execution_count": 21,
     "metadata": {},
     "output_type": "execute_result"
    }
   ],
   "source": [
    "\n",
    "list(colormaps)"
   ]
  },
  {
   "cell_type": "code",
   "execution_count": 25,
   "metadata": {},
   "outputs": [
    {
     "name": "stdout",
     "output_type": "stream",
     "text": [
      "{'x': [3], 'y': [4], 'z': [-25]}\n"
     ]
    },
    {
     "ename": "AttributeError",
     "evalue": "module 'my_utils.defs' has no attribute 'create_masks'",
     "output_type": "error",
     "traceback": [
      "\u001b[31m---------------------------------------------------------------------------\u001b[39m",
      "\u001b[31mAttributeError\u001b[39m                            Traceback (most recent call last)",
      "\u001b[36mCell\u001b[39m\u001b[36m \u001b[39m\u001b[32mIn[25]\u001b[39m\u001b[32m, line 27\u001b[39m\n\u001b[32m     25\u001b[39m ys = np.linspace(BOUNDARY_0, BOUNDARY_1, N_POINTS)\n\u001b[32m     26\u001b[39m xs, ys = np.meshgrid(xs, ys)\n\u001b[32m---> \u001b[39m\u001b[32m27\u001b[39m mask = \u001b[43mcp\u001b[49m\u001b[43m.\u001b[49m\u001b[43mcreate_masks\u001b[49m((xs, ys), [p1, p2, p3])[\u001b[32m1\u001b[39m]\n\u001b[32m     28\u001b[39m zs = z_f(xs, ys)\n\u001b[32m     29\u001b[39m zs[mask] = np.nan\n",
      "\u001b[31mAttributeError\u001b[39m: module 'my_utils.defs' has no attribute 'create_masks'"
     ]
    }
   ],
   "source": [
    "%matplotlib widget\n",
    "\n",
    "N_POINTS = 1000\n",
    "X_POINTS, Y_POINTS, Z_POINTS = [], [], []\n",
    "COORDS = {'x': X_POINTS, 'y': Y_POINTS, 'z': Z_POINTS}\n",
    "BOUNDARY_0 = -np.sqrt(2)\n",
    "BOUNDARY_1 = np.sqrt(2)\n",
    "\n",
    "for l, c in zip(COORDS.values(), [3, 4, -25]):  # noqa: E741\n",
    "    l.append(c)\n",
    "\n",
    "p1 = (0, 0)\n",
    "p2 = (4, 0)\n",
    "p3 = (4, 4)\n",
    "\n",
    "\n",
    "print(COORDS)\n",
    "\n",
    "x, y = sp.symbols('x y')\n",
    "z = x**3 - 6*x*y + y**3\n",
    "\n",
    "z_f = sp.lambdify((x, y), z)\n",
    "\n",
    "xs = np.linspace(BOUNDARY_0, BOUNDARY_1, N_POINTS)\n",
    "ys = np.linspace(BOUNDARY_0, BOUNDARY_1, N_POINTS)\n",
    "xs, ys = np.meshgrid(xs, ys)\n",
    "mask = cp.create_masks((xs, ys), [p1, p2, p3])[1]\n",
    "zs = z_f(xs, ys)\n",
    "zs[mask] = np.nan\n",
    "\n",
    "\n",
    "plt.close()\n",
    "plt.figure(figsize=(6, 6))\n",
    "ax1 = plt.subplot(111, projection=\"3d\")\n",
    "ax1.plot_surface(xs, ys, zs, cmap=\"turbo\", alpha=0.7)  # type: ignore\n",
    "# ax1.scatter(COORDS['x'][0], COORDS['y'][0], COORDS['z'][0], marker=\"o\", color=\"red\", s=100, alpha=1.0, zorder=8)\n",
    "# ax1.plot3D([COORDS['x'][0] for _ in range(3)],\n",
    "#            [COORDS['y'][0] for _ in range(3)],\n",
    "#            np.linspace(BOUNDARY_0, BOUNDARY_1, 10),\n",
    "#            color=\"red\", zorder=6)\n",
    "# ax1.plot3D(xs,\n",
    "#            [COORDS['y'][0] for _ in range(N_POINTS)],\n",
    "#            [COORDS['z'][0] for _ in range(N_POINTS)],\n",
    "#            color=\"red\", zorder=7)\n",
    "# ax1.plot3D([COORDS['x'][0] for _ in range(N_POINTS)],\n",
    "#            ys,\n",
    "#            [COORDS['z'][0] for _ in range(N_POINTS)],\n",
    "#            color=\"red\", zorder=7)\n",
    "plt.show()"
   ]
  },
  {
   "cell_type": "code",
   "execution_count": null,
   "metadata": {},
   "outputs": [
    {
     "name": "stdout",
     "output_type": "stream",
     "text": [
      "0 -> 0\n",
      "1 -> 1\n",
      "2 -> 4\n",
      "3 -> 9\n",
      "4 -> 16\n",
      "5 -> 25\n",
      "6 -> 36\n",
      "7 -> 49\n",
      "8 -> 64\n",
      "9 -> 81\n",
      "10 -> 100\n",
      "11 -> 121\n",
      "12 -> 144\n",
      "13 -> 169\n",
      "14 -> 196\n",
      "15 -> 225\n",
      "16 -> 256\n",
      "17 -> 289\n",
      "18 -> 324\n",
      "19 -> 361\n",
      "20 -> 400\n",
      "21 -> 441\n",
      "22 -> 484\n",
      "23 -> 529\n",
      "24 -> 576\n",
      "25 -> 625\n",
      "26 -> 676\n",
      "27 -> 729\n",
      "28 -> 784\n",
      "29 -> 841\n",
      "30 -> 900\n",
      "31 -> 961\n",
      "32 -> 1024\n",
      "33 -> 1089\n",
      "34 -> 1156\n",
      "35 -> 1225\n",
      "36 -> 1296\n",
      "37 -> 1369\n",
      "38 -> 1444\n",
      "39 -> 1521\n",
      "40 -> 1600\n",
      "41 -> 1681\n",
      "42 -> 1764\n",
      "43 -> 1849\n",
      "44 -> 1936\n",
      "45 -> 2025\n",
      "46 -> 2116\n",
      "47 -> 2209\n",
      "48 -> 2304\n",
      "49 -> 2401\n",
      "50 -> 2500\n",
      "51 -> 2601\n",
      "52 -> 2704\n",
      "53 -> 2809\n",
      "54 -> 2916\n",
      "55 -> 3025\n",
      "56 -> 3136\n",
      "57 -> 3249\n",
      "58 -> 3364\n",
      "59 -> 3481\n",
      "60 -> 3600\n",
      "61 -> 3721\n",
      "62 -> 3844\n",
      "63 -> 3969\n",
      "64 -> 4096\n",
      "65 -> 4225\n",
      "66 -> 4356\n",
      "67 -> 4489\n",
      "68 -> 4624\n",
      "69 -> 4761\n",
      "70 -> 4900\n",
      "71 -> 5041\n",
      "72 -> 5184\n",
      "73 -> 5329\n",
      "74 -> 5476\n",
      "75 -> 5625\n",
      "76 -> 5776\n",
      "77 -> 5929\n",
      "78 -> 6084\n",
      "79 -> 6241\n",
      "80 -> 6400\n",
      "81 -> 6561\n",
      "82 -> 6724\n",
      "83 -> 6889\n",
      "84 -> 7056\n",
      "85 -> 7225\n",
      "86 -> 7396\n",
      "87 -> 7569\n",
      "88 -> 7744\n",
      "89 -> 7921\n",
      "90 -> 8100\n",
      "91 -> 8281\n",
      "92 -> 8464\n",
      "93 -> 8649\n",
      "94 -> 8836\n",
      "95 -> 9025\n",
      "96 -> 9216\n",
      "97 -> 9409\n",
      "98 -> 9604\n",
      "99 -> 9801\n"
     ]
    }
   ],
   "source": [
    "for i in range(100):\n",
    "    print(f\"{i} -> {i**2}\")"
   ]
  }
 ],
 "metadata": {
  "kernelspec": {
   "display_name": "ai",
   "language": "python",
   "name": "python3"
  },
  "language_info": {
   "codemirror_mode": {
    "name": "ipython",
    "version": 3
   },
   "file_extension": ".py",
   "mimetype": "text/x-python",
   "name": "python",
   "nbconvert_exporter": "python",
   "pygments_lexer": "ipython3",
   "version": "3.13.7"
  }
 },
 "nbformat": 4,
 "nbformat_minor": 2
}
